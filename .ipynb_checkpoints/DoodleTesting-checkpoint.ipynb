{
 "cells": [
  {
   "cell_type": "code",
   "execution_count": 33,
   "metadata": {},
   "outputs": [],
   "source": [
    "import os\n",
    "import re\n",
    "from glob import glob\n",
    "from tqdm import tqdm\n",
    "import numpy as np\n",
    "import pandas as pd\n",
    "import ast\n",
    "import matplotlib.pyplot as plt\n",
    "%matplotlib inline"
   ]
  },
  {
   "cell_type": "code",
   "execution_count": 64,
   "metadata": {},
   "outputs": [],
   "source": [
    "fnames = glob('/Users/erictang/Desktop/Github/DoogleDrawing/train_simplified/*.csv')\n",
    "categoryNames = ['countrycode', 'drawing', 'key_id', 'recognized', 'timestamp','word']\n",
    "categoies = len(fnames)"
   ]
  },
  {
   "cell_type": "code",
   "execution_count": 65,
   "metadata": {},
   "outputs": [
    {
     "data": {
      "text/html": [
       "<div>\n",
       "<style scoped>\n",
       "    .dataframe tbody tr th:only-of-type {\n",
       "        vertical-align: middle;\n",
       "    }\n",
       "\n",
       "    .dataframe tbody tr th {\n",
       "        vertical-align: top;\n",
       "    }\n",
       "\n",
       "    .dataframe thead th {\n",
       "        text-align: right;\n",
       "    }\n",
       "</style>\n",
       "<table border=\"1\" class=\"dataframe\">\n",
       "  <thead>\n",
       "    <tr style=\"text-align: right;\">\n",
       "      <th></th>\n",
       "      <th>countrycode</th>\n",
       "      <th>drawing</th>\n",
       "      <th>key_id</th>\n",
       "      <th>recognized</th>\n",
       "      <th>timestamp</th>\n",
       "      <th>word</th>\n",
       "    </tr>\n",
       "  </thead>\n",
       "  <tbody>\n",
       "    <tr>\n",
       "      <th>0</th>\n",
       "      <td>US</td>\n",
       "      <td>[[[0, 126, 190, 255], [7, 1, 4, 0]]]</td>\n",
       "      <td>4819728134569984</td>\n",
       "      <td>True</td>\n",
       "      <td>2017-03-26 23:57:14.639540</td>\n",
       "      <td>line</td>\n",
       "    </tr>\n",
       "    <tr>\n",
       "      <th>1</th>\n",
       "      <td>RU</td>\n",
       "      <td>[[[13, 210, 249, 255, 255, 245, 226, 195, 161,...</td>\n",
       "      <td>4835770021969920</td>\n",
       "      <td>True</td>\n",
       "      <td>2017-03-07 09:40:05.125010</td>\n",
       "      <td>bucket</td>\n",
       "    </tr>\n",
       "  </tbody>\n",
       "</table>\n",
       "</div>"
      ],
      "text/plain": [
       "  countrycode                                            drawing  \\\n",
       "0          US               [[[0, 126, 190, 255], [7, 1, 4, 0]]]   \n",
       "1          RU  [[[13, 210, 249, 255, 255, 245, 226, 195, 161,...   \n",
       "\n",
       "             key_id recognized                   timestamp    word  \n",
       "0  4819728134569984       True  2017-03-26 23:57:14.639540    line  \n",
       "1  4835770021969920       True  2017-03-07 09:40:05.125010  bucket  "
      ]
     },
     "execution_count": 65,
     "metadata": {},
     "output_type": "execute_result"
    }
   ],
   "source": [
    "drawlist = []\n",
    "for f in fnames[0:2]:\n",
    "    first = pd.read_csv(f, nrows=1)\n",
    "    first = first[first.recognized==True]\n",
    "    drawlist.append(first)\n",
    "draw_df = pd.DataFrame(np.concatenate(drawlist), columns=cnames)\n",
    "draw_df"
   ]
  },
  {
   "cell_type": "code",
   "execution_count": 86,
   "metadata": {},
   "outputs": [
    {
     "name": "stdout",
     "output_type": "stream",
     "text": [
      "[[[[0, 126, 190, 255], [7, 1, 4, 0]]], [[[13, 210, 249, 255, 255, 245, 226, 195, 161, 92, 65, 11, 3, 0], [74, 89, 95, 100, 110, 126, 132, 132, 125, 104, 101, 79, 76, 69]], [[20, 20, 30, 21, 22, 28, 47, 94, 111, 142, 155, 193, 216, 224, 225, 223], [84, 105, 138, 168, 176, 185, 201, 228, 232, 237, 231, 203, 171, 148, 130, 126]], [[64, 68, 75, 94, 145, 191, 217, 224, 226, 215], [78, 64, 51, 33, 9, 0, 2, 10, 41, 74]]]]\n"
     ]
    }
   ],
   "source": [
    "\n",
    "\n",
    "example1s = [ast.literal_eval(pts) for pts in draw_df.drawing.values]\n",
    "\n",
    "print(example1s)"
   ]
  },
  {
   "cell_type": "code",
   "execution_count": 89,
   "metadata": {},
   "outputs": [
    {
     "name": "stdout",
     "output_type": "stream",
     "text": [
      "['line', 'bucket']\n"
     ]
    }
   ],
   "source": [
    "labels = draw_df.word.tolist()"
   ]
  },
  {
   "cell_type": "code",
   "execution_count": 123,
   "metadata": {},
   "outputs": [
    {
     "data": {
      "image/png": "[encoded data removed]",
      "text/plain": [
       "<matplotlib.figure.Figure at 0x10f1054e0>"
      ]
     },
     "metadata": {},
     "output_type": "display_data"
    },
    {
     "name": "stderr",
     "output_type": "stream",
     "text": [
      "/Users/erictang/anaconda3/lib/python3.6/site-packages/matplotlib/cbook/deprecation.py:106: MatplotlibDeprecationWarning: Adding an axes using the same arguments as a previous axes currently reuses the earlier instance.  In a future version, a new instance will always be created and returned.  Meanwhile, this warning can be suppressed, and the future behavior ensured, by passing a unique label to each axes instance.\n",
      "  warnings.warn(message, mplDeprecation, stacklevel=1)\n"
     ]
    },
    {
     "data": {
      "image/png": "[encoded data removed]",
      "text/plain": [
       "<matplotlib.figure.Figure at 0x10e3eceb8>"
      ]
     },
     "metadata": {},
     "output_type": "display_data"
    }
   ],
   "source": [
    "plts = []\n",
    "for i in [0,1]:\n",
    "    for x,y in example1s[i]:\n",
    "        plt.subplot(1,2,1)\n",
    "        plt.plot(x, y, marker='.')\n",
    "    plt.show()\n",
    "\n"
   ]
  },
  {
   "cell_type": "code",
   "execution_count": null,
   "metadata": {},
   "outputs": [],
   "source": []
  }
 ],
 "metadata": {
  "kernelspec": {
   "display_name": "Python 3",
   "language": "python",
   "name": "python3"
  },
  "language_info": {
   "codemirror_mode": {
    "name": "ipython",
    "version": 3
   },
   "file_extension": ".py",
   "mimetype": "text/x-python",
   "name": "python",
   "nbconvert_exporter": "python",
   "pygments_lexer": "ipython3",
   "version": "3.6.4"
  }
 },
 "nbformat": 4,
 "nbformat_minor": 2
}
