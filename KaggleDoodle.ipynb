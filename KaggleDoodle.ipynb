{
 "cells": [
  {
   "cell_type": "code",
   "execution_count": null,
   "metadata": {},
   "outputs": [],
   "source": [
    "import numpy as np # linear algebra\n",
    "import pandas as pd # data processing, CSV file I/O (e.g. pd.read_csv)\n",
    "import os\n",
    "import ast\n",
    "import matplotlib.pyplot as plt\n",
    "import cv2\n",
    "from glob import glob\n",
    "import tensorflow as tf\n",
    "\n"
   ]
  },
  {
   "cell_type": "code",
   "execution_count": null,
   "metadata": {},
   "outputs": [],
   "source": [
    "fnames = glob('../input/train_simplified/*.csv')\n",
    "cnames = ['countrycode', 'drawing', 'key_id', 'recognized', 'timestamp', 'word','class_id']\n",
    "drawlist = []\n",
    "files_number = 340\n",
    "for i in range(files_number):\n",
    "    f = fnames[i]\n",
    "    first = pd.read_csv(f)\n",
    "    first = first[first.recognized==True]\n",
    "    first[6] = i\n",
    "    drawlist.append(first)\n",
    "draw_df = pd.DataFrame(np.concatenate(drawlist),columns = cnames)\n",
    "train_size = len(draw_df)"
   ]
  },
  {
   "cell_type": "code",
   "execution_count": null,
   "metadata": {},
   "outputs": [],
   "source": [
    "def draw2img(drawing, shape =(32,32), lw = 4):\n",
    "    fig, ax = plt.subplots()\n",
    "    for x,y in drawing:\n",
    "        ax.plot(x, y,'g',  marker='.', linewidth = lw)\n",
    "    ax.axis('off')\n",
    "    fig.canvas.draw()    \n",
    "    X = np.array(fig.canvas.renderer._renderer)\n",
    "    plt.close(fig)\n",
    "    temp = (cv2.resize(X, shape) / 255.)[::-1]\n",
    "    return temp[:,:,1] "
   ]
  },
  {
   "cell_type": "code",
   "execution_count": null,
   "metadata": {},
   "outputs": [],
   "source": [
    "model = tf.keras.models.Sequential([\n",
    "  tf.keras.layers.Flatten(),\n",
    "  tf.keras.layers.Dense(512, activation=tf.nn.relu),\n",
    "  tf.keras.layers.Dropout(0.2),\n",
    "  tf.keras.layers.Dense(340, activation=tf.nn.softmax)\n",
    "])\n",
    "model.compile(optimizer='adam',\n",
    "              loss='sparse_categorical_crossentropy',\n",
    "              metrics=['accuracy'])\n",
    "\n",
    "model.fit(x_train, y_train, epochs=train_size)"
   ]
  },
  {
   "cell_type": "code",
   "execution_count": null,
   "metadata": {},
   "outputs": [],
   "source": [
    "tests = pd.read_csv('../input/test_simplified.csv')\n",
    "test_drawings = [ast.literal_eval(pts) for pts in tests[0:len(tests)]['drawing'].values] \n",
    "test_len = len(test_drawings)\n",
    "test_images = []\n",
    "for d in test_drawings:\n",
    "        test_image = np.array(draw2img(d,(32,32),4)).reshape((32, 32))\n",
    "        test_images.append(test_image)\n",
    "x_test = np.array(test_images)"
   ]
  },
  {
   "cell_type": "code",
   "execution_count": null,
   "metadata": {},
   "outputs": [],
   "source": [
    "p = model.predict_classes(x_test[0:test_len])\n",
    "classfiles = os.listdir('../input/train_simplified/')\n",
    "numstonames = {i: v[:-4].replace(\" \", \"_\") for i, v in enumerate(classfiles)}\n",
    "sub = pd.read_csv('../input/sample_submission.csv', index_col=['key_id'])\n",
    "coutnames = ['words']\n",
    "out = pd.DataFrame(p,columns = coutnames)\n",
    "out = out.replace(numstonames)\n",
    "sub['word'] = out.words.values\n",
    "sub.to_csv('output.csv')"
   ]
  }
 ],
 "metadata": {
  "kernelspec": {
   "display_name": "Python 3",
   "language": "python",
   "name": "python3"
  },
  "language_info": {
   "codemirror_mode": {
    "name": "ipython",
    "version": 3
   },
   "file_extension": ".py",
   "mimetype": "text/x-python",
   "name": "python",
   "nbconvert_exporter": "python",
   "pygments_lexer": "ipython3",
   "version": "3.6.4"
  }
 },
 "nbformat": 4,
 "nbformat_minor": 2
}
