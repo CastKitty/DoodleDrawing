{
 "cells": [
  {
   "cell_type": "code",
   "execution_count": 59,
   "metadata": {},
   "outputs": [],
   "source": [
    "import numpy as np # linear algebra\n",
    "import pandas as pd # data processing, CSV file I/O (e.g. pd.read_csv)\n",
    "import os\n",
    "import ast\n",
    "import matplotlib.pyplot as plt\n",
    "import cv2\n",
    "from glob import glob\n",
    "import tensorflow as tf"
   ]
  },
  {
   "cell_type": "code",
   "execution_count": 60,
   "metadata": {},
   "outputs": [],
   "source": [
    "fnames = glob('/Users/erictang/Desktop/Github/DoogleDrawing/train_simplified/*.csv')\n",
    "cnames = ['countrycode', 'drawing', 'key_id', 'recognized', 'timestamp', 'word','class_id']\n",
    "drawlist = []\n",
    "files_number = 2\n",
    "images_number = 3\n",
    "for i in range(files_number):\n",
    "    f = fnames[i]\n",
    "    first = pd.read_csv(f, nrows=images_number)\n",
    "    first = first[first.recognized==True]\n",
    "    first[6] = i\n",
    "    drawlist.append(first)\n",
    "draw_df = pd.DataFrame(np.concatenate(drawlist),columns = cnames)\n"
   ]
  },
  {
   "cell_type": "code",
   "execution_count": 61,
   "metadata": {},
   "outputs": [],
   "source": [
    "def draw2img(drawing, shape =(32,32), lw = 4):\n",
    "    fig, ax = plt.subplots()\n",
    "    for x,y in drawing:\n",
    "        ax.plot(x, y,'g',  marker='.', linewidth = lw) #  marker='.', See which line width is better, <4 might be good\n",
    "    ax.axis('off')\n",
    "    fig.canvas.draw()    \n",
    "    X = np.array(fig.canvas.renderer._renderer)\n",
    "    plt.close(fig)\n",
    "    temp = (cv2.resize(X, shape) / 255.)[::-1]\n",
    "    return temp[:,:,1] # only green channel, as we have drawn with green"
   ]
  },
  {
   "cell_type": "code",
   "execution_count": 62,
   "metadata": {},
   "outputs": [],
   "source": [
    "draw_df_number = len(draw_df)\n",
    "drawings = [ast.literal_eval(pts) for pts in draw_df[0:draw_df_number]['drawing'].values] \n",
    "images = []\n",
    "for d in drawings:\n",
    "        image = draw2img(d, (32,32),4)\n",
    "        images.append(image)\n",
    "x_train = np.array(images)\n",
    "classes = draw_df.class_id.tolist()\n",
    "y_train = np.array(classes)\n"
   ]
  },
  {
   "cell_type": "code",
   "execution_count": 63,
   "metadata": {},
   "outputs": [
    {
     "name": "stdout",
     "output_type": "stream",
     "text": [
      "Epoch 1/6\n",
      "6/6 [==============================] - 1s 172ms/step - loss: 6.3637 - acc: 0.0000e+00\n",
      "Epoch 2/6\n",
      "6/6 [==============================] - 0s 5ms/step - loss: 1.2055 - acc: 0.5000\n",
      "Epoch 3/6\n",
      "6/6 [==============================] - 0s 5ms/step - loss: 1.5427 - acc: 0.5000\n",
      "Epoch 4/6\n",
      "6/6 [==============================] - 0s 7ms/step - loss: 0.7114 - acc: 0.6667\n",
      "Epoch 5/6\n",
      "6/6 [==============================] - 0s 6ms/step - loss: 1.1548 - acc: 0.5000\n",
      "Epoch 6/6\n",
      "6/6 [==============================] - 0s 6ms/step - loss: 0.7419 - acc: 0.5000\n"
     ]
    },
    {
     "data": {
      "text/plain": [
       "<tensorflow.python.keras.callbacks.History at 0x132cc7e10>"
      ]
     },
     "execution_count": 63,
     "metadata": {},
     "output_type": "execute_result"
    }
   ],
   "source": [
    "model = tf.keras.models.Sequential([\n",
    "  tf.keras.layers.Flatten(),\n",
    "  tf.keras.layers.Dense(512, activation=tf.nn.relu),\n",
    "  tf.keras.layers.Dropout(0.2),\n",
    "  tf.keras.layers.Dense(340, activation=tf.nn.softmax)\n",
    "])\n",
    "model.compile(optimizer='adam',\n",
    "              loss='sparse_categorical_crossentropy',\n",
    "              metrics=['accuracy'])\n",
    "\n",
    "model.fit(x_train, y_train, epochs=train_size)"
   ]
  },
  {
   "cell_type": "code",
   "execution_count": null,
   "metadata": {},
   "outputs": [],
   "source": []
  }
 ],
 "metadata": {
  "kernelspec": {
   "display_name": "Python 3",
   "language": "python",
   "name": "python3"
  },
  "language_info": {
   "codemirror_mode": {
    "name": "ipython",
    "version": 3
   },
   "file_extension": ".py",
   "mimetype": "text/x-python",
   "name": "python",
   "nbconvert_exporter": "python",
   "pygments_lexer": "ipython3",
   "version": "3.6.4"
  }
 },
 "nbformat": 4,
 "nbformat_minor": 2
}
